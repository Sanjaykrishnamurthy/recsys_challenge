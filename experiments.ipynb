{
 "cells": [
  {
   "cell_type": "code",
   "execution_count": 1,
   "metadata": {
    "collapsed": true
   },
   "outputs": [],
   "source": [
    "import os\n",
    "import sys\n",
    "import numpy as np"
   ]
  },
  {
   "cell_type": "code",
   "execution_count": 2,
   "metadata": {
    "collapsed": true
   },
   "outputs": [],
   "source": [
    "file_clicks_basename = 'yoochoose-clicks-0.01.dat'\n",
    "file_buys_basename = 'yoochoose-buys-0.01.dat'\n",
    "file_test_basename = 'yoochoose-test.dat'\n",
    "file_what_to_buy_features_basename = 'wtb-0.01.csv'\n",
    "file_buy_or_not_features_basename = 'bon-0.01.npy'\n",
    "data_path = 'data'\n",
    "cache_path = 'cache'\n",
    "file_clicks = os.path.join(data_path, file_clicks_basename)\n",
    "file_buys = os.path.join(data_path, file_buys_basename)\n",
    "file_test = os.path.join(data_path, file_test_basename)\n",
    "file_what_to_buy_features = os.path.join(cache_path, file_what_to_buy_features_basename)\n",
    "file_buy_or_not_features = os.path.join(cache_path, file_buy_or_not_features_basename)"
   ]
  },
  {
   "cell_type": "code",
   "execution_count": 3,
   "metadata": {
    "collapsed": true
   },
   "outputs": [],
   "source": [
    "effective_columns_names = ['Session ID', 'Timestamp', 'Item ID']"
   ]
  },
  {
   "cell_type": "code",
   "execution_count": 4,
   "metadata": {
    "collapsed": true
   },
   "outputs": [],
   "source": [
    "from src.main.read_and_write_data import read_clicks\n",
    "\n",
    "clicks = read_clicks(file_clicks, usecols=effective_columns_names)\\\n",
    "    .sort_values('Timestamp')\\\n",
    "    .reset_index(drop=True)"
   ]
  },
  {
   "cell_type": "code",
   "execution_count": 5,
   "metadata": {
    "collapsed": true
   },
   "outputs": [],
   "source": [
    "from src.main.preprocess_data import df_group_by_session_id\n",
    "\n",
    "clicks_grouped_by_session_id, clicks_grouped_by_session_id_keys = df_group_by_session_id(clicks)"
   ]
  },
  {
   "cell_type": "code",
   "execution_count": 6,
   "metadata": {
    "collapsed": false
   },
   "outputs": [],
   "source": [
    "from src.main.read_and_write_data import features_from_csv, features_to_csv\n",
    "from src.main.feature_extraction import extract_what_to_buy\n",
    "\n",
    "if os.path.isfile(file_what_to_buy_features):\n",
    "        what_to_buy = features_from_csv(file_what_to_buy_features, ['Session ID', 'Item ID'],\n",
    "                                        {'F3': 'Counts', 'F6': 'Sequent Clicks', 'F7': 'Time Difference'})\n",
    "else:\n",
    "    what_to_buy = extract_what_to_buy(clicks_grouped_by_session_id)\n",
    "    features_to_csv(file_what_to_buy_features, what_to_buy.values())"
   ]
  },
  {
   "cell_type": "code",
   "execution_count": 7,
   "metadata": {
    "collapsed": false
   },
   "outputs": [
    {
     "name": "stdout",
     "output_type": "stream",
     "text": [
      "Extracting feature: P2\n",
      "Extraction completed in 0 minutes 0 seconds\n",
      "Extracting feature: P3\n",
      "Extraction completed in 0 minutes 8 seconds\n",
      "Extracting feature: P1\n",
      "Extraction completed in 0 minutes 0 seconds\n",
      "Extracting feature: P6\n",
      "Extraction completed in 0 minutes 0 seconds\n",
      "Extracting feature: P4\n",
      "Extraction completed in 0 minutes 30 seconds\n",
      "Extracting feature: P10\n",
      "Extraction completed in 0 minutes 0 seconds\n",
      "Extracting feature: P11\n",
      "Extraction completed in 0 minutes 42 seconds\n",
      "Extracting feature: P5\n",
      "Extraction completed in 0 minutes 0 seconds\n"
     ]
    }
   ],
   "source": [
    "from src.main.feature_extraction import extract_buy_or_not\n",
    "\n",
    "if os.path.isfile(file_buy_or_not_features):\n",
    "        buy_or_not = np.load(file_buy_or_not_features)\n",
    "else:\n",
    "    buy_or_not = extract_buy_or_not(clicks_grouped_by_session_id, what_to_buy)\n",
    "    np.save(file_buy_or_not_features, buy_or_not)"
   ]
  },
  {
   "cell_type": "code",
   "execution_count": 8,
   "metadata": {
    "collapsed": true
   },
   "outputs": [],
   "source": [
    "from src.main.read_and_write_data import read_buys\n",
    "from src.main.feature_extraction import extract_buys\n",
    "\n",
    "buys = read_buys(file_buys, usecols=effective_columns_names)\n",
    "_, buys_grouped_by_session_id_keys = df_group_by_session_id(buys)\n",
    "buys_result = extract_buys(clicks_grouped_by_session_id_keys, buys_grouped_by_session_id_keys)"
   ]
  },
  {
   "cell_type": "code",
   "execution_count": 9,
   "metadata": {
    "collapsed": false
   },
   "outputs": [
    {
     "name": "stdout",
     "output_type": "stream",
     "text": [
      "[   1.    1.    1. ...,   76.   76.  180.]\n",
      "[  1.   1.   1. ...,  22.  23.  48.]\n",
      "[        0.         0.         0. ...,  19360452.  19771408.  23952820.]\n",
      "[       0.        0.        0. ...,  3595598.  3595847.  3596386.]\n",
      "[  0.00000000e+00   0.00000000e+00   0.00000000e+00 ...,   3.40282347e+38\n",
      "   3.40282347e+38   3.40282347e+38]\n",
      "[  1.   1.   1. ...,  22.  23.  48.]\n",
      "[  1.   1.   1. ...,  22.  23.  48.]\n",
      "[  1.00000000e+00   3.00000000e+00   8.00000000e+00 ...,   2.14748365e+09\n",
      "   2.14748365e+09   2.14748365e+09]\n"
     ]
    }
   ],
   "source": [
    "for feature_index in xrange(buy_or_not.shape[1]):\n",
    "    print np.sort(buy_or_not[:, feature_index])"
   ]
  },
  {
   "cell_type": "code",
   "execution_count": 10,
   "metadata": {
    "collapsed": false
   },
   "outputs": [
    {
     "data": {
      "text/plain": [
       "array([  0.00000000e+00,   5.00000000e-01,   1.00000000e+00, ...,\n",
       "         3.59320700e+06,   3.59543000e+06,   3.40282347e+38], dtype=float32)"
      ]
     },
     "execution_count": 10,
     "metadata": {},
     "output_type": "execute_result"
    }
   ],
   "source": [
    "np.unique(buy_or_not[:, 4].flatten())"
   ]
  },
  {
   "cell_type": "code",
   "execution_count": null,
   "metadata": {
    "collapsed": true
   },
   "outputs": [],
   "source": []
  }
 ],
 "metadata": {
  "kernelspec": {
   "display_name": "Python 2",
   "language": "python",
   "name": "python2"
  },
  "language_info": {
   "codemirror_mode": {
    "name": "ipython",
    "version": 2
   },
   "file_extension": ".py",
   "mimetype": "text/x-python",
   "name": "python",
   "nbconvert_exporter": "python",
   "pygments_lexer": "ipython2",
   "version": "2.7.12"
  }
 },
 "nbformat": 4,
 "nbformat_minor": 0
}
